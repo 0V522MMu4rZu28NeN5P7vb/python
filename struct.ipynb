{
 "cells": [
  {
   "cell_type": "code",
   "execution_count": 140,
   "metadata": {},
   "outputs": [],
   "source": [
    "import pandas as pd\n",
    "import numpy as np"
   ]
  },
  {
   "cell_type": "markdown",
   "metadata": {},
   "source": [
    "# repeat cocatenate"
   ]
  },
  {
   "cell_type": "code",
   "execution_count": 18,
   "metadata": {},
   "outputs": [],
   "source": [
    "df = pd.DataFrame({'A':[1,2],'B':[[3,4,4],[5,6,6]],'C':[[7,8,8],[9,0,0]]})"
   ]
  },
  {
   "cell_type": "code",
   "execution_count": 19,
   "metadata": {},
   "outputs": [
    {
     "data": {
      "text/html": [
       "<div>\n",
       "<style scoped>\n",
       "    .dataframe tbody tr th:only-of-type {\n",
       "        vertical-align: middle;\n",
       "    }\n",
       "\n",
       "    .dataframe tbody tr th {\n",
       "        vertical-align: top;\n",
       "    }\n",
       "\n",
       "    .dataframe thead th {\n",
       "        text-align: right;\n",
       "    }\n",
       "</style>\n",
       "<table border=\"1\" class=\"dataframe\">\n",
       "  <thead>\n",
       "    <tr style=\"text-align: right;\">\n",
       "      <th></th>\n",
       "      <th>A</th>\n",
       "      <th>B</th>\n",
       "      <th>C</th>\n",
       "    </tr>\n",
       "  </thead>\n",
       "  <tbody>\n",
       "    <tr>\n",
       "      <th>0</th>\n",
       "      <td>1</td>\n",
       "      <td>[3, 4, 4]</td>\n",
       "      <td>[7, 8, 8]</td>\n",
       "    </tr>\n",
       "    <tr>\n",
       "      <th>1</th>\n",
       "      <td>2</td>\n",
       "      <td>[5, 6, 6]</td>\n",
       "      <td>[9, 0, 0]</td>\n",
       "    </tr>\n",
       "  </tbody>\n",
       "</table>\n",
       "</div>"
      ],
      "text/plain": [
       "   A          B          C\n",
       "0  1  [3, 4, 4]  [7, 8, 8]\n",
       "1  2  [5, 6, 6]  [9, 0, 0]"
      ]
     },
     "execution_count": 19,
     "metadata": {},
     "output_type": "execute_result"
    }
   ],
   "source": [
    "df"
   ]
  },
  {
   "cell_type": "code",
   "execution_count": 20,
   "metadata": {},
   "outputs": [
    {
     "data": {
      "text/plain": [
       "0    1\n",
       "1    2\n",
       "Name: A, dtype: int64"
      ]
     },
     "execution_count": 20,
     "metadata": {},
     "output_type": "execute_result"
    }
   ],
   "source": [
    "df.A"
   ]
  },
  {
   "cell_type": "code",
   "execution_count": 21,
   "metadata": {},
   "outputs": [
    {
     "data": {
      "text/plain": [
       "0    [3, 4, 4]\n",
       "1    [5, 6, 6]\n",
       "Name: B, dtype: object"
      ]
     },
     "execution_count": 21,
     "metadata": {},
     "output_type": "execute_result"
    }
   ],
   "source": [
    "df.B"
   ]
  },
  {
   "cell_type": "code",
   "execution_count": 41,
   "metadata": {},
   "outputs": [
    {
     "data": {
      "text/plain": [
       "0    3\n",
       "1    3\n",
       "Name: B, dtype: int64"
      ]
     },
     "execution_count": 41,
     "metadata": {},
     "output_type": "execute_result"
    }
   ],
   "source": [
    "df.B.str.len()"
   ]
  },
  {
   "cell_type": "code",
   "execution_count": 23,
   "metadata": {},
   "outputs": [
    {
     "data": {
      "text/plain": [
       "[0    3\n",
       " 1    5\n",
       " Name: B, dtype: int64, 0    4\n",
       " 1    6\n",
       " Name: B, dtype: int64, 0    4\n",
       " 1    6\n",
       " Name: B, dtype: int64]"
      ]
     },
     "execution_count": 23,
     "metadata": {},
     "output_type": "execute_result"
    }
   ],
   "source": [
    "list(df.B.str)"
   ]
  },
  {
   "cell_type": "code",
   "execution_count": 24,
   "metadata": {},
   "outputs": [
    {
     "data": {
      "text/html": [
       "<div>\n",
       "<style scoped>\n",
       "    .dataframe tbody tr th:only-of-type {\n",
       "        vertical-align: middle;\n",
       "    }\n",
       "\n",
       "    .dataframe tbody tr th {\n",
       "        vertical-align: top;\n",
       "    }\n",
       "\n",
       "    .dataframe thead th {\n",
       "        text-align: right;\n",
       "    }\n",
       "</style>\n",
       "<table border=\"1\" class=\"dataframe\">\n",
       "  <thead>\n",
       "    <tr style=\"text-align: right;\">\n",
       "      <th></th>\n",
       "      <th>A</th>\n",
       "      <th>B</th>\n",
       "      <th>C</th>\n",
       "    </tr>\n",
       "  </thead>\n",
       "  <tbody>\n",
       "    <tr>\n",
       "      <th>0</th>\n",
       "      <td>1</td>\n",
       "      <td>[3, 4, 4]</td>\n",
       "      <td>[7, 8, 8]</td>\n",
       "    </tr>\n",
       "    <tr>\n",
       "      <th>1</th>\n",
       "      <td>2</td>\n",
       "      <td>[5, 6, 6]</td>\n",
       "      <td>[9, 0, 0]</td>\n",
       "    </tr>\n",
       "  </tbody>\n",
       "</table>\n",
       "</div>"
      ],
      "text/plain": [
       "   A          B          C\n",
       "0  1  [3, 4, 4]  [7, 8, 8]\n",
       "1  2  [5, 6, 6]  [9, 0, 0]"
      ]
     },
     "execution_count": 24,
     "metadata": {},
     "output_type": "execute_result"
    }
   ],
   "source": [
    "df"
   ]
  },
  {
   "cell_type": "code",
   "execution_count": 31,
   "metadata": {},
   "outputs": [
    {
     "data": {
      "text/plain": [
       "0    1\n",
       "0    1\n",
       "0    1\n",
       "1    2\n",
       "1    2\n",
       "Name: A, dtype: int64"
      ]
     },
     "execution_count": 31,
     "metadata": {},
     "output_type": "execute_result"
    }
   ],
   "source": [
    "df.A.repeat([3,2])"
   ]
  },
  {
   "cell_type": "code",
   "execution_count": 36,
   "metadata": {},
   "outputs": [
    {
     "data": {
      "text/plain": [
       "array([list([3, 4, 4]), list([5, 6, 6])], dtype=object)"
      ]
     },
     "execution_count": 36,
     "metadata": {},
     "output_type": "execute_result"
    }
   ],
   "source": [
    "df.B.values"
   ]
  },
  {
   "cell_type": "code",
   "execution_count": 37,
   "metadata": {},
   "outputs": [
    {
     "data": {
      "text/plain": [
       "array([3, 4, 4, 5, 6, 6])"
      ]
     },
     "execution_count": 37,
     "metadata": {},
     "output_type": "execute_result"
    }
   ],
   "source": [
    "np.concatenate(df.B.values)"
   ]
  },
  {
   "cell_type": "code",
   "execution_count": 42,
   "metadata": {},
   "outputs": [
    {
     "data": {
      "text/html": [
       "<div>\n",
       "<style scoped>\n",
       "    .dataframe tbody tr th:only-of-type {\n",
       "        vertical-align: middle;\n",
       "    }\n",
       "\n",
       "    .dataframe tbody tr th {\n",
       "        vertical-align: top;\n",
       "    }\n",
       "\n",
       "    .dataframe thead th {\n",
       "        text-align: right;\n",
       "    }\n",
       "</style>\n",
       "<table border=\"1\" class=\"dataframe\">\n",
       "  <thead>\n",
       "    <tr style=\"text-align: right;\">\n",
       "      <th></th>\n",
       "      <th>A</th>\n",
       "      <th>B</th>\n",
       "      <th>C</th>\n",
       "    </tr>\n",
       "  </thead>\n",
       "  <tbody>\n",
       "    <tr>\n",
       "      <th>0</th>\n",
       "      <td>1</td>\n",
       "      <td>3</td>\n",
       "      <td>7</td>\n",
       "    </tr>\n",
       "    <tr>\n",
       "      <th>0</th>\n",
       "      <td>1</td>\n",
       "      <td>4</td>\n",
       "      <td>8</td>\n",
       "    </tr>\n",
       "    <tr>\n",
       "      <th>0</th>\n",
       "      <td>1</td>\n",
       "      <td>4</td>\n",
       "      <td>8</td>\n",
       "    </tr>\n",
       "    <tr>\n",
       "      <th>1</th>\n",
       "      <td>2</td>\n",
       "      <td>5</td>\n",
       "      <td>9</td>\n",
       "    </tr>\n",
       "    <tr>\n",
       "      <th>1</th>\n",
       "      <td>2</td>\n",
       "      <td>6</td>\n",
       "      <td>0</td>\n",
       "    </tr>\n",
       "    <tr>\n",
       "      <th>1</th>\n",
       "      <td>2</td>\n",
       "      <td>6</td>\n",
       "      <td>0</td>\n",
       "    </tr>\n",
       "  </tbody>\n",
       "</table>\n",
       "</div>"
      ],
      "text/plain": [
       "   A  B  C\n",
       "0  1  3  7\n",
       "0  1  4  8\n",
       "0  1  4  8\n",
       "1  2  5  9\n",
       "1  2  6  0\n",
       "1  2  6  0"
      ]
     },
     "execution_count": 42,
     "metadata": {},
     "output_type": "execute_result"
    }
   ],
   "source": [
    "pd.DataFrame({'A':df.A.repeat(df.B.str.len()),'B':np.concatenate(df.B.values),'C':np.concatenate(df.C.values)})"
   ]
  },
  {
   "cell_type": "code",
   "execution_count": 49,
   "metadata": {},
   "outputs": [
    {
     "data": {
      "text/plain": [
       "array([3, 4, 4, 5, 6, 6])"
      ]
     },
     "execution_count": 49,
     "metadata": {},
     "output_type": "execute_result"
    }
   ],
   "source": [
    "np.concatenate(df.B.values)"
   ]
  },
  {
   "cell_type": "code",
   "execution_count": 50,
   "metadata": {},
   "outputs": [
    {
     "data": {
      "text/plain": [
       "0    1\n",
       "0    1\n",
       "0    1\n",
       "1    2\n",
       "1    2\n",
       "1    2\n",
       "Name: A, dtype: int64"
      ]
     },
     "execution_count": 50,
     "metadata": {},
     "output_type": "execute_result"
    }
   ],
   "source": [
    "df.A.repeat(df.B.str.len())"
   ]
  },
  {
   "cell_type": "markdown",
   "metadata": {},
   "source": [
    "# ABCD字数量相同"
   ]
  },
  {
   "cell_type": "code",
   "execution_count": 129,
   "metadata": {},
   "outputs": [],
   "source": [
    "#4*改变最小长度使字符串中ABCD数量相同字符串\n",
    "class Lin:\n",
    "    def a(self, abcd):\n",
    "        start_end = {}\n",
    "        for i in range(len(abcd)):\n",
    "            for j in range(i+1,len(abcd)):\n",
    "                if self.mast_a(abcd[0:i]+abcd[j:],i,j):\n",
    "                    start_end[str(i)+','+str(j)] = j-i\n",
    "                    break\n",
    "        #return min(map(lambda x: x[1] - x[0] + 1,start_end))\n",
    "        return start_end\n",
    "                \n",
    "    def mast_a(self, strabcd, i, j):\n",
    "        word_count = {word:strabcd.replace('',' ').strip().split().count(word) for word in set(strabcd.replace('',' ').strip().split())}\n",
    "        max_str = max(word_count.values())\n",
    "        changes = max_str*4 - self.zero_num(word_count,'a') - self.zero_num(word_count,'b') - self.zero_num(word_count,'c') - self.zero_num(word_count,'d')\n",
    "        mast = j-i-changes\n",
    "        return mast>=0 & mast % 4 == 0\n",
    "    \n",
    "    def zero_num(self, word_count, s):\n",
    "        return word_count.get(s) if word_count.get(s) else 0\n",
    "    \n",
    "    "
   ]
  },
  {
   "cell_type": "code",
   "execution_count": 130,
   "metadata": {},
   "outputs": [
    {
     "data": {
      "text/plain": [
       "{'0,1': 1, '1,5': 4, '2,5': 3, '3,5': 2, '4,5': 1, '5,6': 1}"
      ]
     },
     "execution_count": 130,
     "metadata": {},
     "output_type": "execute_result"
    }
   ],
   "source": [
    "strabcd = Lin()\n",
    "n = strabcd.a('abcdaacb')\n",
    "n"
   ]
  },
  {
   "cell_type": "code",
   "execution_count": 131,
   "metadata": {
    "scrolled": true
   },
   "outputs": [
    {
     "data": {
      "text/plain": [
       "[('0,1', 1), ('4,5', 1), ('5,6', 1), ('3,5', 2), ('2,5', 3), ('1,5', 4)]"
      ]
     },
     "execution_count": 131,
     "metadata": {},
     "output_type": "execute_result"
    }
   ],
   "source": [
    "sorted(n.items(),key=lambda x:x[1])"
   ]
  },
  {
   "cell_type": "code",
   "execution_count": 132,
   "metadata": {},
   "outputs": [
    {
     "data": {
      "text/plain": [
       "('0,1', 1)"
      ]
     },
     "execution_count": 132,
     "metadata": {},
     "output_type": "execute_result"
    }
   ],
   "source": [
    "sorted(n.items(),key=lambda x:x[1])[0]"
   ]
  },
  {
   "cell_type": "code",
   "execution_count": 17,
   "metadata": {},
   "outputs": [
    {
     "data": {
      "text/plain": [
       "'d'"
      ]
     },
     "execution_count": 17,
     "metadata": {},
     "output_type": "execute_result"
    }
   ],
   "source": [
    "max_str = lambda {word:a.replace('',' ').strip().split().count(word) for word in set(a.replace('',' ').strip().split())}: x.\n",
    "max_str"
   ]
  },
  {
   "cell_type": "code",
   "execution_count": 20,
   "metadata": {},
   "outputs": [
    {
     "data": {
      "text/plain": [
       "{'d': 1, 'b': 1, 'c': 1, 'a': 5}"
      ]
     },
     "execution_count": 20,
     "metadata": {},
     "output_type": "execute_result"
    }
   ],
   "source": [
    "{word:a.replace('',' ').strip().split().count(word) for word in set(a.replace('',' ').strip().split())}"
   ]
  },
  {
   "cell_type": "code",
   "execution_count": 30,
   "metadata": {},
   "outputs": [
    {
     "data": {
      "text/plain": [
       "{'d': 1, 'b': 1, 'c': 1, 'a': 5}"
      ]
     },
     "execution_count": 30,
     "metadata": {},
     "output_type": "execute_result"
    }
   ],
   "source": [
    "word_count"
   ]
  },
  {
   "cell_type": "code",
   "execution_count": 29,
   "metadata": {},
   "outputs": [
    {
     "data": {
      "text/plain": [
       "5"
      ]
     },
     "execution_count": 29,
     "metadata": {},
     "output_type": "execute_result"
    }
   ],
   "source": [
    "word_count = {word:strabcd.replace('',' ').strip().split().count(word) for word in set(strabcd.replace('',' ').strip().split())}\n",
    "max_str = max(word_count.values())\n",
    "max_str"
   ]
  },
  {
   "cell_type": "code",
   "execution_count": 69,
   "metadata": {},
   "outputs": [
    {
     "data": {
      "text/plain": [
       "1"
      ]
     },
     "execution_count": 69,
     "metadata": {},
     "output_type": "execute_result"
    }
   ],
   "source": [
    "word_count.get('d')"
   ]
  },
  {
   "cell_type": "markdown",
   "metadata": {},
   "source": [
    "# s/2"
   ]
  },
  {
   "cell_type": "code",
   "execution_count": 216,
   "metadata": {},
   "outputs": [],
   "source": [
    "# arr : 每一个像素点的值，一定在0~S范围\n",
    "#  s : 如果像素的值<0，会自动变成0;如果像素的值>S，会自动变成s\n",
    "# 请返回，加上哪个数k，会让整个数组的平均值，最接近s/2\n",
    "def knum(arr, s):\n",
    "    ave = avenum(arr, s, 0)\n",
    "    print('ave',ave)\n",
    "    loss_change = abs(s/2 - ave)\n",
    "    i_change = 0\n",
    "    print('loss_change',loss_change)\n",
    "    for i in range(-128,128):\n",
    "        target = avenum(arr, s, i)\n",
    "        loss = abs(s/2 - target)\n",
    "        if loss < loss_change or(loss == loss_change and abs(i)<abs(i_change)):\n",
    "            loss_change = loss\n",
    "            i_change = i\n",
    "    return i_change"
   ]
  },
  {
   "cell_type": "code",
   "execution_count": null,
   "metadata": {},
   "outputs": [],
   "source": []
  },
  {
   "cell_type": "code",
   "execution_count": 219,
   "metadata": {},
   "outputs": [],
   "source": [
    "# 像素值在arr里，所有数字+k\n",
    "# 如果像素的值<0，会自动变成0;如果像素的值>S，会自动变成S\n",
    "# 返回+k之后的数组，平均值是多少\n",
    "\n",
    "def avenum(arr, s, k):\n",
    "    new_arr = list(map(lambda x: s if x+k > s  else x+k if x+k >0 else 0,arr))\n",
    "    #print('avenum',new_arr,np.mean(new_arr),k)\n",
    "    return np.mean(new_arr)"
   ]
  },
  {
   "cell_type": "code",
   "execution_count": 220,
   "metadata": {},
   "outputs": [
    {
     "name": "stdout",
     "output_type": "stream",
     "text": [
      "ave 120.0\n",
      "loss_change 7.5\n"
     ]
    },
    {
     "data": {
      "text/plain": [
       "7"
      ]
     },
     "execution_count": 220,
     "metadata": {},
     "output_type": "execute_result"
    }
   ],
   "source": [
    "arr = [0,60,120,200,220]\n",
    "knum(arr,255)"
   ]
  },
  {
   "cell_type": "code",
   "execution_count": null,
   "metadata": {},
   "outputs": [],
   "source": []
  },
  {
   "cell_type": "markdown",
   "metadata": {},
   "source": [
    "# 从内到外打印矩阵"
   ]
  },
  {
   "cell_type": "code",
   "execution_count": 274,
   "metadata": {},
   "outputs": [],
   "source": [
    "def prinlab(matrx,n):\n",
    "    #定义中心-左上和右下成为一个框\n",
    "    ls_lab = int((n-1)/2)\n",
    "    rx_lab = int(n/2)\n",
    "    #接受路径\n",
    "    route = []\n",
    "    #循环得到每一个框\n",
    "    while rx_lab < n:\n",
    "        #如果中心为一个点\n",
    "        if ls_lab == rx_lab:\n",
    "            route.append(matrx[rx_lab][ls_lab])\n",
    "        #中心为框\n",
    "        else:\n",
    "            #移动点初始化-右上角点\n",
    "            row,col = ls_lab,rx_lab\n",
    "            #右上角向下一格开始\n",
    "            while row < rx_lab:\n",
    "                row = row + 1\n",
    "                route.append(matrx[row][col])\n",
    "            #向左\n",
    "            while col > ls_lab:\n",
    "                col = col - 1\n",
    "                route.append(matrx[row][col])\n",
    "            #向上\n",
    "            while row > ls_lab:\n",
    "                row = row - 1\n",
    "                route.append(matrx[row][col])\n",
    "            #向右\n",
    "            while col < rx_lab:\n",
    "                col = col + 1\n",
    "                route.append(matrx[row][col])\n",
    "        #顶点向两端扩大得到下一层框\n",
    "        rx_lab = rx_lab+1\n",
    "        ls_lab = ls_lab-1\n",
    "    return '--> '.join(route)"
   ]
  },
  {
   "cell_type": "code",
   "execution_count": 276,
   "metadata": {},
   "outputs": [
    {
     "data": {
      "text/plain": [
       "'a'"
      ]
     },
     "execution_count": 276,
     "metadata": {},
     "output_type": "execute_result"
    }
   ],
   "source": [
    "matrx = [['a','b','c','d'],\n",
    "        ['h','i','j','k'],\n",
    "        ['o','p','q','r'],\n",
    "        ['u','v','w','x']]\n",
    "matrx[0][0]\n"
   ]
  },
  {
   "cell_type": "code",
   "execution_count": 277,
   "metadata": {},
   "outputs": [
    {
     "data": {
      "text/plain": [
       "'q--> p--> i--> j--> k--> r--> x--> w--> v--> u--> o--> h--> a--> b--> c--> d'"
      ]
     },
     "execution_count": 277,
     "metadata": {},
     "output_type": "execute_result"
    }
   ],
   "source": [
    "prinlab(matrx,4)"
   ]
  },
  {
   "cell_type": "code",
   "execution_count": null,
   "metadata": {},
   "outputs": [],
   "source": []
  },
  {
   "cell_type": "code",
   "execution_count": null,
   "metadata": {},
   "outputs": [],
   "source": []
  }
 ],
 "metadata": {
  "kernelspec": {
   "display_name": "Python 3",
   "language": "python",
   "name": "python3"
  },
  "language_info": {
   "codemirror_mode": {
    "name": "ipython",
    "version": 3
   },
   "file_extension": ".py",
   "mimetype": "text/x-python",
   "name": "python",
   "nbconvert_exporter": "python",
   "pygments_lexer": "ipython3",
   "version": "3.7.3"
  },
  "toc": {
   "base_numbering": 1,
   "nav_menu": {},
   "number_sections": true,
   "sideBar": true,
   "skip_h1_title": false,
   "title_cell": "Table of Contents",
   "title_sidebar": "Contents",
   "toc_cell": false,
   "toc_position": {
    "height": "calc(100% - 180px)",
    "left": "10px",
    "top": "150px",
    "width": "222.764px"
   },
   "toc_section_display": true,
   "toc_window_display": true
  }
 },
 "nbformat": 4,
 "nbformat_minor": 2
}
