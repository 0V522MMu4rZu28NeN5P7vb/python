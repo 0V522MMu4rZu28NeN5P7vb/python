{
 "cells": [
  {
   "cell_type": "code",
   "execution_count": 14,
   "id": "d5b99816",
   "metadata": {
    "ExecuteTime": {
     "end_time": "2023-09-22T02:35:20.132604Z",
     "start_time": "2023-09-22T02:35:20.126511Z"
    }
   },
   "outputs": [
    {
     "name": "stdout",
     "output_type": "stream",
     "text": [
      "[0, 0, 0, 0, 0, 0, 0]\n",
      "[0, 1, 2, 3, 4, 0, 0]\n",
      "[0, 1, 2, 3, 4, 6, 9]\n"
     ]
    },
    {
     "data": {
      "text/plain": [
       "9"
      ]
     },
     "execution_count": 14,
     "metadata": {},
     "output_type": "execute_result"
    }
   ],
   "source": [
    "# 1或2 不能连续两次2\n",
    "# 最后一位为1的情况f(n-1)\n",
    "# 最后一位为2的情况f(n-3)\n",
    "# f(n) = f(n-1) + f(n-3)\n",
    "def eat(m):\n",
    "    if m < 5:\n",
    "        return m\n",
    "    f = [0] * (m+1)\n",
    "    print(f)\n",
    "    for i in range(5):\n",
    "        f[i] = i\n",
    "    print(f)\n",
    "    for i in range(5,m+1):\n",
    "        f[i] = f[i-1] + f[i-3]\n",
    "    print(f)\n",
    "    return f[-1]\n",
    "eat(6)"
   ]
  },
  {
   "cell_type": "code",
   "execution_count": 17,
   "id": "2766e102",
   "metadata": {
    "ExecuteTime": {
     "end_time": "2023-09-22T04:24:57.753228Z",
     "start_time": "2023-09-22T04:24:57.747201Z"
    }
   },
   "outputs": [
    {
     "name": "stdout",
     "output_type": "stream",
     "text": [
      "[0, 0, 0, 0, 0, 0, 0, 0, 0, 0, 0, 0, 0, 0, 0, 0, 0, 0, 0, 0, 0]\n",
      "[0, 1, 2, 3, 4, 0, 0, 0, 0, 0, 0, 0, 0, 0, 0, 0, 0, 0, 0, 0, 0]\n",
      "[0, 1, 2, 3, 4, 5, 7, 10, 14, 19, 26, 36, 50, 69, 95, 131, 181, 250, 345, 476, 657]\n"
     ]
    },
    {
     "data": {
      "text/plain": [
       "657"
      ]
     },
     "execution_count": 17,
     "metadata": {},
     "output_type": "execute_result"
    }
   ],
   "source": [
    "# 1或2 2后两位必须两个1（211）\n",
    "# 最后一位为1的情况f(n-1)\n",
    "# 最后一位为2的情况f(n-4)\n",
    "# f(n) = f(n-1) + f(n-3)\n",
    "def eat(n):\n",
    "    if n < 6:\n",
    "        return n\n",
    "    f = [0] * (n+1)\n",
    "    print(f)\n",
    "    for i in range(5):\n",
    "        f[i] = i\n",
    "    print(f)\n",
    "    for i in range(5,n+1):\n",
    "        f[i] = f[i-1] + f[i-4]\n",
    "    print(f)\n",
    "    return f[-1]\n",
    "eat(20)"
   ]
  },
  {
   "cell_type": "code",
   "execution_count": 39,
   "id": "d8dcc822",
   "metadata": {
    "ExecuteTime": {
     "end_time": "2023-09-22T05:30:32.013928Z",
     "start_time": "2023-09-22T05:30:32.006833Z"
    }
   },
   "outputs": [
    {
     "name": "stdout",
     "output_type": "stream",
     "text": [
      "[[1 1 1 1 1]\n",
      " [1 1 1 1 1]\n",
      " [1 1 1 1 1]]\n",
      "[[ 1  1  1  1  1]\n",
      " [ 1  2  3  4  5]\n",
      " [ 1  3  6 10 15]]\n"
     ]
    },
    {
     "data": {
      "text/plain": [
       "15"
      ]
     },
     "execution_count": 39,
     "metadata": {},
     "output_type": "execute_result"
    }
   ],
   "source": [
    "# 每次只能向下或者向右移动一步\n",
    "# dp[i] [j] = dp[i-1] [j] + dp[i] [j-1]\n",
    "# dp[0] [0….n-1] = 1; // 相当于最上面一行，机器人只能一直往右走\n",
    "# dp[0…m-1] [0] = 1; // 相当于最左面一列，机器人只能一直往下走\n",
    "def route(m,n):\n",
    "    if(m<0 or n <0):\n",
    "        return 0\n",
    "#     r = [[1 for _ in range(n)] for _ in range(m)]\n",
    "    r = np.ones((m, n), dtype=int)\n",
    "    print(r)\n",
    "#     for i in range(m):\n",
    "#         r[i][0] = 1\n",
    "#     for i in range(n):\n",
    "#         r[0][i] = 1\n",
    "    for k in range(1,m):\n",
    "         for j in range(1,n):\n",
    "                r[k][j] = r[k-1][j] + r[k][j-1]\n",
    "    print(r)\n",
    "    return r[m-1][n-1]\n",
    "\n",
    "route(3,5)  "
   ]
  },
  {
   "cell_type": "code",
   "execution_count": 29,
   "id": "857f825f",
   "metadata": {
    "ExecuteTime": {
     "end_time": "2023-09-22T05:25:45.441973Z",
     "start_time": "2023-09-22T05:25:45.437002Z"
    }
   },
   "outputs": [
    {
     "data": {
      "text/plain": [
       "[[0, 0, 0, 0], [0, 0, 0, 0], [0, 0, 0, 0]]"
      ]
     },
     "execution_count": 29,
     "metadata": {},
     "output_type": "execute_result"
    }
   ],
   "source": []
  },
  {
   "cell_type": "code",
   "execution_count": 23,
   "id": "05656c48",
   "metadata": {
    "ExecuteTime": {
     "end_time": "2023-09-22T05:20:01.891819Z",
     "start_time": "2023-09-22T05:20:01.885829Z"
    }
   },
   "outputs": [
    {
     "data": {
      "text/plain": [
       "0"
      ]
     },
     "execution_count": 23,
     "metadata": {},
     "output_type": "execute_result"
    }
   ],
   "source": []
  },
  {
   "cell_type": "code",
   "execution_count": null,
   "id": "ed20473f",
   "metadata": {},
   "outputs": [],
   "source": []
  }
 ],
 "metadata": {
  "kernelspec": {
   "display_name": "python36",
   "language": "python",
   "name": "python36"
  },
  "language_info": {
   "codemirror_mode": {
    "name": "ipython",
    "version": 3
   },
   "file_extension": ".py",
   "mimetype": "text/x-python",
   "name": "python",
   "nbconvert_exporter": "python",
   "pygments_lexer": "ipython3",
   "version": "3.11.4"
  },
  "toc": {
   "base_numbering": 1,
   "nav_menu": {},
   "number_sections": true,
   "sideBar": true,
   "skip_h1_title": false,
   "title_cell": "Table of Contents",
   "title_sidebar": "Contents",
   "toc_cell": false,
   "toc_position": {},
   "toc_section_display": true,
   "toc_window_display": false
  },
  "varInspector": {
   "cols": {
    "lenName": 16,
    "lenType": 16,
    "lenVar": 40
   },
   "kernels_config": {
    "python": {
     "delete_cmd_postfix": "",
     "delete_cmd_prefix": "del ",
     "library": "var_list.py",
     "varRefreshCmd": "print(var_dic_list())"
    },
    "r": {
     "delete_cmd_postfix": ") ",
     "delete_cmd_prefix": "rm(",
     "library": "var_list.r",
     "varRefreshCmd": "cat(var_dic_list()) "
    }
   },
   "types_to_exclude": [
    "module",
    "function",
    "builtin_function_or_method",
    "instance",
    "_Feature"
   ],
   "window_display": true
  }
 },
 "nbformat": 4,
 "nbformat_minor": 5
}
